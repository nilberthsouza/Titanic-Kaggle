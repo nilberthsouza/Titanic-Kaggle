{
  "nbformat": 4,
  "nbformat_minor": 0,
  "metadata": {
    "kernelspec": {
      "display_name": "Python 3",
      "language": "python",
      "name": "python3"
    },
    "language_info": {
      "codemirror_mode": {
        "name": "ipython",
        "version": 3
      },
      "file_extension": ".py",
      "mimetype": "text/x-python",
      "name": "python",
      "nbconvert_exporter": "python",
      "pygments_lexer": "ipython3",
      "version": "3.7.4"
    },
    "colab": {
      "name": "novaresolucao.ipynb",
      "provenance": []
    }
  },
  "cells": [
    {
      "cell_type": "code",
      "metadata": {
        "id": "gaGCCJZRnyzl",
        "colab_type": "code",
        "colab": {}
      },
      "source": [
        "import pandas as pd\n",
        "import numpy as np\n",
        "\n",
        "from sklearn.ensemble import RandomForestRegressor\n",
        "\n",
        "\n",
        "!pip install category_encoders\n",
        "from category_encoders.one_hot import OneHotEncoder\n"
      ],
      "execution_count": 0,
      "outputs": []
    },
    {
      "cell_type": "code",
      "metadata": {
        "id": "2JBnjMKBny1S",
        "colab_type": "code",
        "colab": {}
      },
      "source": [
        "#train = pd.read_csv(\"train.csv\")\n",
        "train = pd.read_csv(\"https://raw.githubusercontent.com/nilberthsouza/Titanic-Kaggle/master/train.csv\")\n",
        "#test  = pd.read_csv(\"test.csv\"\n",
        "test  = pd.read_csv(\"https://raw.githubusercontent.com/nilberthsouza/Titanic-Kaggle/master/test.csv\")\n",
        "\n",
        "train.head()"
      ],
      "execution_count": 0,
      "outputs": []
    },
    {
      "cell_type": "code",
      "metadata": {
        "id": "KGWhHZytny18",
        "colab_type": "code",
        "colab": {
          "base_uri": "https://localhost:8080/",
          "height": 187
        },
        "outputId": "cdddd298-3aed-4575-9e17-a95944c665a8"
      },
      "source": [
        "print(train.Age.mean(skipna=True))\n",
        "print(test.Age.mean(skipna=True))\n",
        "print(train.shape[1])\n",
        "print(test.shape[1])\n",
        "print(train.columns)\n",
        "print(test.columns)"
      ],
      "execution_count": 75,
      "outputs": [
        {
          "output_type": "stream",
          "text": [
            "29.69911764705882\n",
            "30.272590361445783\n",
            "12\n",
            "11\n",
            "Index(['PassengerId', 'Survived', 'Pclass', 'Name', 'Sex', 'Age', 'SibSp',\n",
            "       'Parch', 'Ticket', 'Fare', 'Cabin', 'Embarked'],\n",
            "      dtype='object')\n",
            "Index(['PassengerId', 'Pclass', 'Name', 'Sex', 'Age', 'SibSp', 'Parch',\n",
            "       'Ticket', 'Fare', 'Cabin', 'Embarked'],\n",
            "      dtype='object')\n"
          ],
          "name": "stdout"
        }
      ]
    },
    {
      "cell_type": "code",
      "metadata": {
        "id": "HADQYritny3Q",
        "colab_type": "code",
        "colab": {
          "base_uri": "https://localhost:8080/",
          "height": 221
        },
        "outputId": "66b45d2e-21e1-458a-8e9f-59d079bb6155"
      },
      "source": [
        "resume = train.Survived.copy()\n",
        "print(resume)"
      ],
      "execution_count": 76,
      "outputs": [
        {
          "output_type": "stream",
          "text": [
            "0      0\n",
            "1      1\n",
            "2      1\n",
            "3      1\n",
            "4      0\n",
            "      ..\n",
            "886    0\n",
            "887    1\n",
            "888    0\n",
            "889    1\n",
            "890    0\n",
            "Name: Survived, Length: 891, dtype: int64\n"
          ],
          "name": "stdout"
        }
      ]
    },
    {
      "cell_type": "code",
      "metadata": {
        "id": "15he-Ptyny3i",
        "colab_type": "code",
        "colab": {}
      },
      "source": [
        "train.drop(['Survived'],axis=1,inplace=True)\n",
        "passengerId = test['PassengerId']\n",
        "\n",
        "train_index = train.shape[0]\n",
        "test_index = test.shape[0]\n",
        "\n",
        "full = pd.concat(objs=[train,test],axis=0).reset_index(drop=True)\n",
        "full.head()"
      ],
      "execution_count": 0,
      "outputs": []
    },
    {
      "cell_type": "code",
      "metadata": {
        "id": "BL2urzgSny4N",
        "colab_type": "code",
        "colab": {}
      },
      "source": [
        "full.drop(['PassengerId','Name','Cabin','Ticket'],axis=1,inplace=True)\n",
        "full.head()"
      ],
      "execution_count": 0,
      "outputs": []
    },
    {
      "cell_type": "code",
      "metadata": {
        "id": "p5q62zpJny4a",
        "colab_type": "code",
        "colab": {}
      },
      "source": [
        "full.isnull().sum()"
      ],
      "execution_count": 0,
      "outputs": []
    },
    {
      "cell_type": "code",
      "metadata": {
        "id": "cbsHqHhkrIkf",
        "colab_type": "code",
        "colab": {}
      },
      "source": [
        "\n",
        "from category_encoders.ordinal import OrdinalEncoder\n",
        "enc = OrdinalEncoder(cols=['Embarked'])\n",
        "enc.fit(full)\n",
        "full = enc.transform(full)\n"
      ],
      "execution_count": 0,
      "outputs": []
    },
    {
      "cell_type": "code",
      "metadata": {
        "id": "d7mG33Jsny4i",
        "colab_type": "code",
        "colab": {}
      },
      "source": [
        "modeAge = int(full['Age'].mode())\n",
        "full['Age'].fillna(modeAge,inplace=True)\n",
        "\n",
        "avgFare = full['Fare'].median()\n",
        "full['Fare'].fillna(avgFare,inplace=True)\n",
        "\n",
        "mcEmbarked = int(full['Embarked'].mode())\n",
        "full['Embarked'].fillna(mcEmbarked,inplace=True)\n",
        "\n",
        "full.isnull().sum()"
      ],
      "execution_count": 0,
      "outputs": []
    },
    {
      "cell_type": "code",
      "metadata": {
        "id": "EuotlKL5pB-x",
        "colab_type": "code",
        "colab": {}
      },
      "source": [
        "enc = OneHotEncoder(cols=['Pclass','Sex'], use_cat_names=True)\n",
        "enc.fit(full)\n",
        "full = enc.transform(full)"
      ],
      "execution_count": 0,
      "outputs": []
    },
    {
      "cell_type": "code",
      "metadata": {
        "id": "5soFeNV5ny4x",
        "colab_type": "code",
        "colab": {}
      },
      "source": [
        "train = full.iloc[:train_index]\n",
        "test = full.iloc[:test_index]"
      ],
      "execution_count": 0,
      "outputs": []
    },
    {
      "cell_type": "code",
      "metadata": {
        "id": "gKN6asSvny42",
        "colab_type": "code",
        "colab": {}
      },
      "source": [
        "test.isna().sum()"
      ],
      "execution_count": 0,
      "outputs": []
    },
    {
      "cell_type": "code",
      "metadata": {
        "id": "9Lmh23PTny5g",
        "colab_type": "code",
        "colab": {}
      },
      "source": [
        "mdl = RandomForestRegressor(n_jobs=1, n_estimators=100, random_state=22)\n",
        "mdl.fit(train,resume)\n"
      ],
      "execution_count": 0,
      "outputs": []
    },
    {
      "cell_type": "code",
      "metadata": {
        "id": "k_5jfnA4ny5m",
        "colab_type": "code",
        "colab": {}
      },
      "source": [
        "P_ohe = mdl.predict(test)"
      ],
      "execution_count": 0,
      "outputs": []
    },
    {
      "cell_type": "code",
      "metadata": {
        "id": "L1EqBEvhny5s",
        "colab_type": "code",
        "colab": {}
      },
      "source": [
        "P_ohe[:5]"
      ],
      "execution_count": 0,
      "outputs": []
    },
    {
      "cell_type": "code",
      "metadata": {
        "id": "Klm1oI74ny5y",
        "colab_type": "code",
        "colab": {}
      },
      "source": [
        "from sklearn.metrics import mean_absolute_error\n"
      ],
      "execution_count": 0,
      "outputs": []
    },
    {
      "cell_type": "code",
      "metadata": {
        "id": "xR0y_PTIny53",
        "colab_type": "code",
        "colab": {}
      },
      "source": [
        "submission = pd.DataFrame({\"PassengerId\": passengerId,\n",
        "                           \"Survived\":P_ohe\n",
        "                          })\n",
        "\n",
        "submission.to_csv('./submission_py.csv',index=False)"
      ],
      "execution_count": 0,
      "outputs": []
    }
  ]
}