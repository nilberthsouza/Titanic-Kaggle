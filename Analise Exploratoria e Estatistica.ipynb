{
  "nbformat": 4,
  "nbformat_minor": 0,
  "metadata": {
    "kernelspec": {
      "display_name": "Python 3",
      "language": "python",
      "name": "python3"
    },
    "language_info": {
      "codemirror_mode": {
        "name": "ipython",
        "version": 3
      },
      "file_extension": ".py",
      "mimetype": "text/x-python",
      "name": "python",
      "nbconvert_exporter": "python",
      "pygments_lexer": "ipython3",
      "version": "3.7.4"
    },
    "colab": {
      "name": "Analise Exploratoria e Estatistica.ipynb",
      "provenance": []
    }
  },
  "cells": [
    {
      "cell_type": "code",
      "metadata": {
        "id": "dNKp1FU_A1UV",
        "colab_type": "code",
        "colab": {
          "base_uri": "https://localhost:8080/",
          "height": 71
        },
        "outputId": "85ebd4d2-8135-49a3-8750-8c05704a2ac3"
      },
      "source": [
        "import numpy\n",
        "import pandas as pd\n",
        "import matplotlib.pyplot as plt\n",
        "import seaborn as sns\n",
        "from scipy import stats\n",
        "import numpy as np"
      ],
      "execution_count": 1,
      "outputs": [
        {
          "output_type": "stream",
          "text": [
            "/usr/local/lib/python3.6/dist-packages/statsmodels/tools/_testing.py:19: FutureWarning: pandas.util.testing is deprecated. Use the functions in the public API at pandas.testing instead.\n",
            "  import pandas.util.testing as tm\n"
          ],
          "name": "stderr"
        }
      ]
    },
    {
      "cell_type": "code",
      "metadata": {
        "id": "l-Ib9SbGA1Uv",
        "colab_type": "code",
        "colab": {
          "base_uri": "https://localhost:8080/",
          "height": 34
        },
        "outputId": "9a38cd15-60af-4ce1-cbbf-caea3fe1204f"
      },
      "source": [
        "df = pd.read_csv('https://raw.githubusercontent.com/nilberthsouza/Titanic-Kaggle/master/train.csv')\n",
        "fig = plt.figure(figsize=(18,6))"
      ],
      "execution_count": 3,
      "outputs": [
        {
          "output_type": "display_data",
          "data": {
            "text/plain": [
              "<Figure size 1296x432 with 0 Axes>"
            ]
          },
          "metadata": {
            "tags": []
          }
        }
      ]
    },
    {
      "cell_type": "code",
      "metadata": {
        "id": "FzAdpgBuA1VD",
        "colab_type": "code",
        "colab": {
          "base_uri": "https://localhost:8080/",
          "height": 204
        },
        "outputId": "276f70cf-7b37-4649-f77b-fd4624073f81"
      },
      "source": [
        "df.head()"
      ],
      "execution_count": 4,
      "outputs": [
        {
          "output_type": "execute_result",
          "data": {
            "text/html": [
              "<div>\n",
              "<style scoped>\n",
              "    .dataframe tbody tr th:only-of-type {\n",
              "        vertical-align: middle;\n",
              "    }\n",
              "\n",
              "    .dataframe tbody tr th {\n",
              "        vertical-align: top;\n",
              "    }\n",
              "\n",
              "    .dataframe thead th {\n",
              "        text-align: right;\n",
              "    }\n",
              "</style>\n",
              "<table border=\"1\" class=\"dataframe\">\n",
              "  <thead>\n",
              "    <tr style=\"text-align: right;\">\n",
              "      <th></th>\n",
              "      <th>PassengerId</th>\n",
              "      <th>Survived</th>\n",
              "      <th>Pclass</th>\n",
              "      <th>Name</th>\n",
              "      <th>Sex</th>\n",
              "      <th>Age</th>\n",
              "      <th>SibSp</th>\n",
              "      <th>Parch</th>\n",
              "      <th>Ticket</th>\n",
              "      <th>Fare</th>\n",
              "      <th>Cabin</th>\n",
              "      <th>Embarked</th>\n",
              "    </tr>\n",
              "  </thead>\n",
              "  <tbody>\n",
              "    <tr>\n",
              "      <th>0</th>\n",
              "      <td>1</td>\n",
              "      <td>0</td>\n",
              "      <td>3</td>\n",
              "      <td>Braund, Mr. Owen Harris</td>\n",
              "      <td>male</td>\n",
              "      <td>22.0</td>\n",
              "      <td>1</td>\n",
              "      <td>0</td>\n",
              "      <td>A/5 21171</td>\n",
              "      <td>7.2500</td>\n",
              "      <td>NaN</td>\n",
              "      <td>S</td>\n",
              "    </tr>\n",
              "    <tr>\n",
              "      <th>1</th>\n",
              "      <td>2</td>\n",
              "      <td>1</td>\n",
              "      <td>1</td>\n",
              "      <td>Cumings, Mrs. John Bradley (Florence Briggs Th...</td>\n",
              "      <td>female</td>\n",
              "      <td>38.0</td>\n",
              "      <td>1</td>\n",
              "      <td>0</td>\n",
              "      <td>PC 17599</td>\n",
              "      <td>71.2833</td>\n",
              "      <td>C85</td>\n",
              "      <td>C</td>\n",
              "    </tr>\n",
              "    <tr>\n",
              "      <th>2</th>\n",
              "      <td>3</td>\n",
              "      <td>1</td>\n",
              "      <td>3</td>\n",
              "      <td>Heikkinen, Miss. Laina</td>\n",
              "      <td>female</td>\n",
              "      <td>26.0</td>\n",
              "      <td>0</td>\n",
              "      <td>0</td>\n",
              "      <td>STON/O2. 3101282</td>\n",
              "      <td>7.9250</td>\n",
              "      <td>NaN</td>\n",
              "      <td>S</td>\n",
              "    </tr>\n",
              "    <tr>\n",
              "      <th>3</th>\n",
              "      <td>4</td>\n",
              "      <td>1</td>\n",
              "      <td>1</td>\n",
              "      <td>Futrelle, Mrs. Jacques Heath (Lily May Peel)</td>\n",
              "      <td>female</td>\n",
              "      <td>35.0</td>\n",
              "      <td>1</td>\n",
              "      <td>0</td>\n",
              "      <td>113803</td>\n",
              "      <td>53.1000</td>\n",
              "      <td>C123</td>\n",
              "      <td>S</td>\n",
              "    </tr>\n",
              "    <tr>\n",
              "      <th>4</th>\n",
              "      <td>5</td>\n",
              "      <td>0</td>\n",
              "      <td>3</td>\n",
              "      <td>Allen, Mr. William Henry</td>\n",
              "      <td>male</td>\n",
              "      <td>35.0</td>\n",
              "      <td>0</td>\n",
              "      <td>0</td>\n",
              "      <td>373450</td>\n",
              "      <td>8.0500</td>\n",
              "      <td>NaN</td>\n",
              "      <td>S</td>\n",
              "    </tr>\n",
              "  </tbody>\n",
              "</table>\n",
              "</div>"
            ],
            "text/plain": [
              "   PassengerId  Survived  Pclass  ...     Fare Cabin  Embarked\n",
              "0            1         0       3  ...   7.2500   NaN         S\n",
              "1            2         1       1  ...  71.2833   C85         C\n",
              "2            3         1       3  ...   7.9250   NaN         S\n",
              "3            4         1       1  ...  53.1000  C123         S\n",
              "4            5         0       3  ...   8.0500   NaN         S\n",
              "\n",
              "[5 rows x 12 columns]"
            ]
          },
          "metadata": {
            "tags": []
          },
          "execution_count": 4
        }
      ]
    },
    {
      "cell_type": "code",
      "metadata": {
        "id": "AP5FKxgEC0le",
        "colab_type": "code",
        "colab": {}
      },
      "source": [
        "df.drop(['Name','Ticket','Cabin'],axis=1,inplace=True)"
      ],
      "execution_count": 0,
      "outputs": []
    },
    {
      "cell_type": "code",
      "metadata": {
        "id": "reTphRj3BHgQ",
        "colab_type": "code",
        "colab": {
          "base_uri": "https://localhost:8080/",
          "height": 292
        },
        "outputId": "a0e0c38d-2ec0-47a4-ad60-0457f5cd6ebf"
      },
      "source": [
        "from scipy import stats\n",
        "\n",
        "\n",
        "plt.figure(figsize=(30,10))\n",
        "\n",
        "plt.subplot2grid((2,3),(0,0))\n",
        "plt.title(\"Distribuição por Classe\")\n",
        "sns.distplot(df.Pclass, fit=stats.norm)\n",
        "\n",
        "plt.subplot2grid((2,3),(0,1))\n",
        "plt.title(\"Distribuição por Idade\")\n",
        "sns.distplot(df.Age,fit=stats.lognorm)\n",
        "\n",
        "plt.subplot2grid((2,3),(0,2))\n",
        "plt.title(\"Distribuição por Parch\")\n",
        "sns.distplot(df.Parch, fit=stats.johnsonsu)"
      ],
      "execution_count": 18,
      "outputs": [
        {
          "output_type": "stream",
          "text": [
            "/usr/local/lib/python3.6/dist-packages/scipy/stats/_continuous_distns.py:4018: RuntimeWarning: divide by zero encountered in log\n",
            "  trm = _norm_pdf(a + b * np.log(x + np.sqrt(x2+1)))\n"
          ],
          "name": "stderr"
        },
        {
          "output_type": "execute_result",
          "data": {
            "text/plain": [
              "<matplotlib.axes._subplots.AxesSubplot at 0x7fbce1dff898>"
            ]
          },
          "metadata": {
            "tags": []
          },
          "execution_count": 18
        },
        {
          "output_type": "display_data",
          "data": {
            "image/png": "[encoded data removed]",
            "text/plain": [
              "<Figure size 2160x720 with 3 Axes>"
            ]
          },
          "metadata": {
            "tags": [],
            "needs_background": "light"
          }
        }
      ]
    },
    {
      "cell_type": "markdown",
      "metadata": {
        "id": "GtOfjHolA1Vc",
        "colab_type": "text"
      },
      "source": [
        "Vamos usar o teste Qui quadrado para verificar se existe associação entre 2 variaveis qualitativas. "
      ]
    },
    {
      "cell_type": "code",
      "metadata": {
        "id": "OZEkyXNuA1Vf",
        "colab_type": "code",
        "colab": {},
        "outputId": "42d8e29c-04f1-49c1-c7a3-565ea7d90e1b"
      },
      "source": [
        "df.Survived[df.Sex=='male'].value_counts()"
      ],
      "execution_count": 0,
      "outputs": [
        {
          "output_type": "execute_result",
          "data": {
            "text/plain": [
              "0    468\n",
              "1    109\n",
              "Name: Survived, dtype: int64"
            ]
          },
          "metadata": {
            "tags": []
          },
          "execution_count": 4
        }
      ]
    },
    {
      "cell_type": "code",
      "metadata": {
        "id": "NrUD4Sg6A1Vw",
        "colab_type": "code",
        "colab": {},
        "outputId": "492acee4-a803-4f2c-aed1-d48d356d8a90"
      },
      "source": [
        "df.Survived[df.Sex == 'female'].value_counts()"
      ],
      "execution_count": 0,
      "outputs": [
        {
          "output_type": "execute_result",
          "data": {
            "text/plain": [
              "1    233\n",
              "0     81\n",
              "Name: Survived, dtype: int64"
            ]
          },
          "metadata": {
            "tags": []
          },
          "execution_count": 5
        }
      ]
    },
    {
      "cell_type": "code",
      "metadata": {
        "id": "AquMNvNiA1WA",
        "colab_type": "code",
        "colab": {},
        "outputId": "66dc33cd-edda-4302-c949-d6a01d5d0e0e"
      },
      "source": [
        "print(\"Porcentagem de Homens que sobreviveram:\",109/(109+233))\n",
        "print(\"Porcentagem de Mulheres que sobreviveram:\",233/(109+233))\n",
        "\n"
      ],
      "execution_count": 0,
      "outputs": [
        {
          "output_type": "stream",
          "text": [
            "Porcentagem de Homens que sobreviveram: 0.31871345029239767\n",
            "Porcentagem de Mulheres que sobreviveram: 0.6812865497076024\n"
          ],
          "name": "stdout"
        }
      ]
    },
    {
      "cell_type": "code",
      "metadata": {
        "id": "YyHUR_CmA1WU",
        "colab_type": "code",
        "colab": {},
        "outputId": "69be0b2c-8408-47f6-e6cb-4729a7523c08"
      },
      "source": [
        "#..........     homens        mulheres\n",
        "#sobreviveram   109             233\n",
        "#morreram       468             81\n",
        "\n",
        "observation = np.array([[109,233],[468,81]])\n",
        "\n",
        "\n",
        "stats.chi2_contingency(observation, correction=False)[1] "
      ],
      "execution_count": 0,
      "outputs": [
        {
          "output_type": "execute_result",
          "data": {
            "text/plain": [
              "3.711747770113424e-59"
            ]
          },
          "metadata": {
            "tags": []
          },
          "execution_count": 16
        }
      ]
    },
    {
      "cell_type": "code",
      "metadata": {
        "id": "jkbq6bL5A1Wo",
        "colab_type": "code",
        "colab": {}
      },
      "source": [
        "Como ```3.711747770113424e-59``` é menor que 0.05 sabemos que sim o genero tem impacto no "
      ],
      "execution_count": 0,
      "outputs": []
    },
    {
      "cell_type": "code",
      "metadata": {
        "id": "Yg7SS6bCA1W4",
        "colab_type": "code",
        "colab": {}
      },
      "source": [
        "df.Sex.value_counts(normalize=True).plot(kind='bar',color=['blue','pink'])\n",
        "plt.title('Survived by Sex')"
      ],
      "execution_count": 0,
      "outputs": []
    },
    {
      "cell_type": "code",
      "metadata": {
        "id": "Jfg2C2hpA1XH",
        "colab_type": "code",
        "colab": {}
      },
      "source": [
        "df.Survived[df.Sex=='male'].value_counts(normalize=True).plot(kind='bar')\n",
        "plt.title('Men Survived')"
      ],
      "execution_count": 0,
      "outputs": []
    },
    {
      "cell_type": "code",
      "metadata": {
        "id": "ACWa2yAiA1XV",
        "colab_type": "code",
        "colab": {}
      },
      "source": [
        "df.Survived[df.Sex=='female'].value_counts(normalize=True).plot(kind='bar',color='pink')\n",
        "plt.title('Women Survived')\n",
        "plt.show()"
      ],
      "execution_count": 0,
      "outputs": []
    },
    {
      "cell_type": "code",
      "metadata": {
        "id": "gKlDX1m_A1Xr",
        "colab_type": "code",
        "colab": {}
      },
      "source": [
        "df.Sex[df.Survived==1].value_counts(normalize=True).plot(kind='bar')"
      ],
      "execution_count": 0,
      "outputs": []
    },
    {
      "cell_type": "code",
      "metadata": {
        "id": "en4wOaPGA1X9",
        "colab_type": "code",
        "colab": {}
      },
      "source": [
        "#preciso tratar os nulos \n",
        "plt.hist(df.Age)"
      ],
      "execution_count": 0,
      "outputs": []
    },
    {
      "cell_type": "code",
      "metadata": {
        "id": "OH6ZYQ6lA1YK",
        "colab_type": "code",
        "colab": {}
      },
      "source": [
        "plt.hist(df.Age[df.Sex=='female'])\n"
      ],
      "execution_count": 0,
      "outputs": []
    },
    {
      "cell_type": "code",
      "metadata": {
        "id": "EZsIGOFDA1YW",
        "colab_type": "code",
        "colab": {}
      },
      "source": [
        "plt.hist(df.Age[df.Sex=='male'])\n"
      ],
      "execution_count": 0,
      "outputs": []
    },
    {
      "cell_type": "code",
      "metadata": {
        "id": "9kEojMCvA1Yj",
        "colab_type": "code",
        "colab": {}
      },
      "source": [
        "plt.hist(df.Survived[df.Pclass=1])\n"
      ],
      "execution_count": 0,
      "outputs": []
    },
    {
      "cell_type": "code",
      "metadata": {
        "id": "SH959AzWA1Yx",
        "colab_type": "code",
        "colab": {}
      },
      "source": [
        ""
      ],
      "execution_count": 0,
      "outputs": []
    }
  ]
}